{
 "cells": [
  {
   "cell_type": "code",
   "execution_count": null,
   "id": "5d9c3c50-02fe-4bce-b804-f6f0ebb939ee",
   "metadata": {},
   "outputs": [],
   "source": [
    "# Iniciando Sessão Spark\n",
    "from pyspark.sql import SparkSession\n",
    "spark = SparkSession.builder \\\n",
    "    .appName('Votacao_Candidato_MunZona_2022') \\\n",
    "    .master(\"spark://spark:7077\") \\\n",
    "    .getOrCreate()"
   ]
  },
  {
   "cell_type": "code",
   "execution_count": null,
   "id": "9da9160e-5069-4928-8bc4-e1dc44886471",
   "metadata": {},
   "outputs": [],
   "source": [
    "# Lendo o CSV e Salvando em um DataFrame\n",
    "df = spark.read.csv(\"jobs/votacao_candidato_munzona_2022_BRASIL.csv\", sep=\";\", header=True, inferSchema=True, encoding=\"ISO-8859-1\")\n",
    "df.show(20)"
   ]
  },
  {
   "cell_type": "code",
   "execution_count": null,
   "id": "13c837d9-dbd0-4cbe-a84a-67de2bb138b7",
   "metadata": {},
   "outputs": [],
   "source": [
    "# Selecionando as colunas necessárias para o OBT\n",
    "columns = [\"NR_TURNO\",\"DS_ELEICAO\",\"TP_ABRANGENCIA\",\"SG_UF\",\"NM_MUNICIPIO\",\"NR_ZONA\",\"DS_CARGO\",\"NR_CANDIDATO\",\"NM_CANDIDATO\",\"NM_URNA_CANDIDATO\",\"DS_SITUACAO_CANDIDATURA\",\"NR_PARTIDO\",\"SG_PARTIDO\",\"NM_PARTIDO\",\"NM_COLIGACAO\",\"DS_COMPOSICAO_COLIGACAO\",\"ST_VOTO_EM_TRANSITO\",\"QT_VOTOS_NOMINAIS\",\"NM_TIPO_DESTINACAO_VOTOS\",\"QT_VOTOS_NOMINAIS_VALIDOS\",\"DS_SIT_TOT_TURNO\"]\n",
    "new_df = df.select(columns)\n",
    "new_df.show(20)"
   ]
  },
  {
   "cell_type": "code",
   "execution_count": null,
   "id": "0a9ed7f8-2324-4c7a-b6f7-e63414ae79fd",
   "metadata": {},
   "outputs": [],
   "source": [
    "# Recebendo as variáveis do Banco\n",
    "hostname_or_ip = \"postgres\"\n",
    "port = \"5432\"\n",
    "db = \"obt\"\n",
    "user = \"metabase\"\n",
    "password = \"FlaDWaiNEdySeRiG\"\n",
    "schema = \"obt\"\n",
    "table = \"obt\""
   ]
  },
  {
   "cell_type": "code",
   "execution_count": null,
   "id": "cbd5764c-5a6b-4e97-aa24-c14551c3f5d8",
   "metadata": {},
   "outputs": [],
   "source": [
    "# Ajustando as variáveis do formulário\n",
    "url = \"jdbc:postgresql://\" + hostname_or_ip + \":\" + port + \"/\" + db\n",
    "properties = {\n",
    "    \"user\": user,\n",
    "    \"password\": password,\n",
    "    \"driver\": \"org.postgresql.Driver\"\n",
    "}"
   ]
  },
  {
   "cell_type": "code",
   "execution_count": null,
   "id": "3b3406c1-c060-486c-be3f-8253ebc7706d",
   "metadata": {},
   "outputs": [],
   "source": [
    "# Gravar dados no banco postgresql\n",
    "new_df.write.jdbc(url=url, table=table, mode=\"overwrite\", properties=properties)"
   ]
  }
 ],
 "metadata": {
  "kernelspec": {
   "display_name": "Python 3 (ipykernel)",
   "language": "python",
   "name": "python3"
  },
  "language_info": {
   "codemirror_mode": {
    "name": "ipython",
    "version": 3
   },
   "file_extension": ".py",
   "mimetype": "text/x-python",
   "name": "python",
   "nbconvert_exporter": "python",
   "pygments_lexer": "ipython3",
   "version": "3.11.6"
  }
 },
 "nbformat": 4,
 "nbformat_minor": 5
}
