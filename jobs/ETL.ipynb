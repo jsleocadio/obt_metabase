{
 "cells": [
  {
   "cell_type": "code",
   "execution_count": 1,
   "id": "ecf4a005",
   "metadata": {},
   "outputs": [
    {
     "name": "stdout",
     "output_type": "stream",
     "text": [
      "Requirement already satisfied: unidecode in /opt/conda/lib/python3.11/site-packages (1.3.8)\n"
     ]
    }
   ],
   "source": [
    "!pip install unidecode"
   ]
  },
  {
   "cell_type": "code",
   "execution_count": 2,
   "id": "5d9c3c50-02fe-4bce-b804-f6f0ebb939ee",
   "metadata": {},
   "outputs": [],
   "source": [
    "# Iniciando Sessão Spark\n",
    "from pyspark.sql import SparkSession\n",
    "spark = SparkSession.builder \\\n",
    "    .appName('Votacao_Candidato_MunZona_2022') \\\n",
    "    .getOrCreate()"
   ]
  },
  {
   "cell_type": "code",
   "execution_count": 3,
   "id": "9da9160e-5069-4928-8bc4-e1dc44886471",
   "metadata": {},
   "outputs": [
    {
     "name": "stdout",
     "output_type": "stream",
     "text": [
      "+----------+-------------------+-----------+---------------+-----------------+--------+----------+--------------------+----------+--------------+-----+-----+-----------------+------------+--------------------+-------+--------+-----------------+------------+------------+--------------------+--------------------+-------------------+-----------------------+-----------------------+------------------------+------------------------+---------------+----------+-------------+--------------------+------------+--------------------+-------------+-----------------------+------------+---------------+-----------------------+-------------------+-----------------+------------------------+-------------------------+----------------+----------------+\n",
      "|DT_GERACAO|         HH_GERACAO|ANO_ELEICAO|CD_TIPO_ELEICAO|  NM_TIPO_ELEICAO|NR_TURNO|CD_ELEICAO|          DS_ELEICAO|DT_ELEICAO|TP_ABRANGENCIA|SG_UF|SG_UE|            NM_UE|CD_MUNICIPIO|        NM_MUNICIPIO|NR_ZONA|CD_CARGO|         DS_CARGO|SQ_CANDIDATO|NR_CANDIDATO|        NM_CANDIDATO|   NM_URNA_CANDIDATO|NM_SOCIAL_CANDIDATO|CD_SITUACAO_CANDIDATURA|DS_SITUACAO_CANDIDATURA|CD_DETALHE_SITUACAO_CAND|DS_DETALHE_SITUACAO_CAND|  TP_AGREMIACAO|NR_PARTIDO|   SG_PARTIDO|          NM_PARTIDO|NR_FEDERACAO|        NM_FEDERACAO| SG_FEDERACAO|DS_COMPOSICAO_FEDERACAO|SQ_COLIGACAO|   NM_COLIGACAO|DS_COMPOSICAO_COLIGACAO|ST_VOTO_EM_TRANSITO|QT_VOTOS_NOMINAIS|NM_TIPO_DESTINACAO_VOTOS|QT_VOTOS_NOMINAIS_VALIDOS|CD_SIT_TOT_TURNO|DS_SIT_TOT_TURNO|\n",
      "+----------+-------------------+-----------+---------------+-----------------+--------+----------+--------------------+----------+--------------+-----+-----+-----------------+------------+--------------------+-------+--------+-----------------+------------+------------+--------------------+--------------------+-------------------+-----------------------+-----------------------+------------------------+------------------------+---------------+----------+-------------+--------------------+------------+--------------------+-------------+-----------------------+------------+---------------+-----------------------+-------------------+-----------------+------------------------+-------------------------+----------------+----------------+\n",
      "|05/02/2024|2024-02-07 18:58:51|       2022|              2|Eleição Ordinária|       1|       546|Eleições Gerais E...|02/10/2022|             E|   MG|   MG|     MINAS GERAIS|       52817| SÃO PEDRO DO SUAÇUÍ|    212|       7|Deputado Estadual|130001607373|       13192|GISELE CRISTINA M...|     GISELE DA SAÚDE|             #NULO#|                     12|                   APTO|                       2|                DEFERIDO|      Federação|        13|           PT|Partido dos Traba...|           2|Federação Brasil ...|PT/PC do B/PV|      PC do B / PT / PV|130001681349|      FEDERAÇÃO|      PT / PV / PC do B|                  N|                0|                  Válido|                        0|               5|        SUPLENTE|\n",
      "|05/02/2024|2024-02-07 18:58:51|       2022|              2|Eleição Ordinária|       1|       546|Eleições Gerais E...|02/10/2022|             E|   RS|   RS|RIO GRANDE DO SUL|       88811|    SÃO LUIZ GONZAGA|     52|       7|Deputado Estadual|210001596188|       19022|JULIO AGAPIO DA S...|        JULIO AGAPIO|             #NULO#|                     12|                   APTO|                       2|                DEFERIDO|Partido isolado|        19|         PODE|             Podemos|          -1|              #NULO#|       #NULO#|                 #NULO#|210001680883|PARTIDO ISOLADO|                   PODE|                  N|                1|                  Válido|                        1|               5|        SUPLENTE|\n",
      "|05/02/2024|2024-02-07 18:58:51|       2022|              2|Eleição Ordinária|       1|       546|Eleições Gerais E...|02/10/2022|             E|   SP|   SP|        SÃO PAULO|       69736|             RIFAINA|    155|       7|Deputado Estadual|250001610539|       19100|RICARDO LONGATTI ...|      RICARDO FRANÇA|             #NULO#|                     12|                   APTO|                       2|                DEFERIDO|Partido isolado|        19|         PODE|             Podemos|          -1|              #NULO#|       #NULO#|                 #NULO#|250001681521|PARTIDO ISOLADO|                   PODE|                  N|                1|                  Válido|                        1|               2|   ELEITO POR QP|\n",
      "|05/02/2024|2024-02-07 18:58:51|       2022|              2|Eleição Ordinária|       1|       546|Eleições Gerais E...|02/10/2022|             E|   MA|   MA|         MARANHÃO|        7994|               ICATU|     31|       7|Deputado Estadual|100001713956|       18190|EUDIMILSON JOSE F...|   SARGENTO EDMILSON|             #NULO#|                     12|                   APTO|                       2|                DEFERIDO|      Federação|        18|         REDE|Rede Sustentabili...|           3| Federação PSOL REDE|    PSOL/REDE|            PSOL / REDE|100001685123|      FEDERAÇÃO|            REDE / PSOL|                  N|                2|                  Válido|                        2|               4|      NÃO ELEITO|\n",
      "|05/02/2024|2024-02-07 18:58:51|       2022|              2|Eleição Ordinária|       1|       546|Eleições Gerais E...|02/10/2022|             E|   MG|   MG|     MINAS GERAIS|       45136|         FELIXLÂNDIA|    100|       7|Deputado Estadual|130001607522|       90800|FABIO DIAS QUEIRO...|               FABÃO|             #NULO#|                     12|                   APTO|                       2|                DEFERIDO|Partido isolado|        90|         PROS|Partido Republica...|          -1|              #NULO#|       #NULO#|                 #NULO#|130001681352|PARTIDO ISOLADO|                   PROS|                  N|                0|                  Válido|                        0|               5|        SUPLENTE|\n",
      "|05/02/2024|2024-02-07 18:58:51|       2022|              2|Eleição Ordinária|       1|       546|Eleições Gerais E...|02/10/2022|             E|   PB|   PB|          PARAÍBA|       19909|   AREIA DE BARAÚNAS|     65|       6| Deputado Federal|150001643404|        7022|        VITAL FARIAS|        VITAL FARIAS|             #NULO#|                     12|                   APTO|                       2|                DEFERIDO|Partido isolado|        70|       AVANTE|              AVANTE|          -1|              #NULO#|       #NULO#|                 #NULO#|150001683061|PARTIDO ISOLADO|                 AVANTE|                  N|                0|                  Válido|                        0|               4|      NÃO ELEITO|\n",
      "|05/02/2024|2024-02-07 18:58:51|       2022|              2|Eleição Ordinária|       1|       546|Eleições Gerais E...|02/10/2022|             E|   BA|   BA|            BAHIA|       35157|    FEIRA DE SANTANA|    155|       6| Deputado Federal| 50001605360|        1314|ANAILDES CAMPOS SENA|            ANAILDES|             #NULO#|                     12|                   APTO|                       2|                DEFERIDO|      Federação|        13|           PT|Partido dos Traba...|           2|Federação Brasil ...|PT/PC do B/PV|      PC do B / PT / PV| 50001681283|      FEDERAÇÃO|      PT / PV / PC do B|                  N|               21|                  Válido|                       21|               5|        SUPLENTE|\n",
      "|05/02/2024|2024-02-07 18:58:51|       2022|              2|Eleição Ordinária|       1|       546|Eleições Gerais E...|02/10/2022|             E|   RS|   RS|RIO GRANDE DO SUL|       86703|       ENGENHO VELHO|    146|       7|Deputado Estadual|210001611299|       51983|DARCI ALESSANDRO ...|      SANDRO MARQUES|             #NULO#|                     12|                   APTO|                       2|                DEFERIDO|Partido isolado|        51|     PATRIOTA|            Patriota|          -1|              #NULO#|       #NULO#|                 #NULO#|210001681567|PARTIDO ISOLADO|               PATRIOTA|                  N|                0|                  Válido|                        0|               4|      NÃO ELEITO|\n",
      "|05/02/2024|2024-02-07 18:58:51|       2022|              2|Eleição Ordinária|       1|       546|Eleições Gerais E...|02/10/2022|             E|   SC|   SC|   SANTA CATARINA|       81248|          CAPÃO ALTO|    104|       7|Deputado Estadual|240001679644|       43333|        MÁRCIA HASSE|        MÁRCIA HASSE|             #NULO#|                     12|                   APTO|                       2|                DEFERIDO|      Federação|        43|           PV|       Partido Verde|           2|Federação Brasil ...|PT/PC do B/PV|      PC do B / PT / PV|240001684215|      FEDERAÇÃO|      PT / PV / PC do B|                  N|                0|                  Válido|                        0|               5|        SUPLENTE|\n",
      "|05/02/2024|2024-02-07 18:58:51|       2022|              2|Eleição Ordinária|       1|       546|Eleições Gerais E...|02/10/2022|             E|   SP|   SP|        SÃO PAULO|       65552|            ITÁPOLIS|     55|       7|Deputado Estadual|250001699836|       28200|JULIO CESAR FRANC...|SARGENTO JULIO CESAR|             #NULO#|                     12|                   APTO|                       2|                DEFERIDO|Partido isolado|        28|         PRTB|Partido Renovador...|          -1|              #NULO#|       #NULO#|                 #NULO#|250001684724|PARTIDO ISOLADO|                   PRTB|                  N|                0|                  Válido|                        0|               4|      NÃO ELEITO|\n",
      "|05/02/2024|2024-02-07 18:58:51|       2022|              2|Eleição Ordinária|       1|       546|Eleições Gerais E...|02/10/2022|             E|   SP|   SP|        SÃO PAULO|       63410|              COLINA|    178|       6| Deputado Federal|250001606092|        7727|LUIZ DE SOUZA ARRAES|         LUIZ ARRAES|             #NULO#|                     12|                   APTO|                       2|                DEFERIDO|Partido isolado|        77|SOLIDARIEDADE|       Solidariedade|          -1|              #NULO#|       #NULO#|                 #NULO#|250001681312|PARTIDO ISOLADO|          SOLIDARIEDADE|                  N|                0|                  Válido|                        0|               5|        SUPLENTE|\n",
      "|05/02/2024|2024-02-07 18:58:51|       2022|              2|Eleição Ordinária|       1|       546|Eleições Gerais E...|02/10/2022|             E|   SC|   SC|   SANTA CATARINA|       80896|            CRICIÚMA|     98|       6| Deputado Federal|240001610778|        1400| RUI GODINHO DA MOTA|         RUI GODINHO|             #NULO#|                     12|                   APTO|                       2|                DEFERIDO|Partido isolado|        14|          PTB|Partido Trabalhis...|          -1|              #NULO#|       #NULO#|                 #NULO#|240001681532|PARTIDO ISOLADO|                    PTB|                  N|                1|                  Válido|                        1|               4|      NÃO ELEITO|\n",
      "|05/02/2024|2024-02-07 18:58:51|       2022|              2|Eleição Ordinária|       1|       546|Eleições Gerais E...|02/10/2022|             E|   MG|   MG|     MINAS GERAIS|       41440|SANTA BÁRBARA DO ...|    240|       7|Deputado Estadual|130001615256|       50010|POLLYANA DO AMARA...|     POLLY DO AMARAL|             #NULO#|                     12|                   APTO|                       2|                DEFERIDO|      Federação|        50|         PSOL|Partido Socialism...|           3| Federação PSOL REDE|    PSOL/REDE|            PSOL / REDE|130001681768|      FEDERAÇÃO|            REDE / PSOL|                  N|                0|                  Válido|                        0|               5|        SUPLENTE|\n",
      "|05/02/2024|2024-02-07 18:58:51|       2022|              2|Eleição Ordinária|       1|       546|Eleições Gerais E...|02/10/2022|             E|   SP|   SP|        SÃO PAULO|       68756|          PIRACICABA|     93|       6| Deputado Federal|250001717173|        3650|ALLAN SERGIO NASC...|      ALLAN CARTEIRO|             #NULO#|                     12|                   APTO|                       2|                DEFERIDO|Partido isolado|        36|         AGIR|                AGIR|          -1|              #NULO#|       #NULO#|                 #NULO#|250001685214|PARTIDO ISOLADO|                   AGIR|                  N|                0|                  Válido|                        0|               4|      NÃO ELEITO|\n",
      "|05/02/2024|2024-02-07 18:58:51|       2022|              2|Eleição Ordinária|       1|       546|Eleições Gerais E...|02/10/2022|             E|   SC|   SC|   SANTA CATARINA|       80802|            ARVOREDO|     61|       7|Deputado Estadual|240001644760|       11222|   FERNANDO CRUZETTA|   FERNANDO CRUZETTA|             #NULO#|                     12|                   APTO|                       2|                DEFERIDO|Partido isolado|        11|           PP|       PROGRESSISTAS|          -1|              #NULO#|       #NULO#|                 #NULO#|240001683130|PARTIDO ISOLADO|                     PP|                  N|                0|                  Válido|                        0|               5|        SUPLENTE|\n",
      "|05/02/2024|2024-02-07 18:58:51|       2022|              2|Eleição Ordinária|       1|       546|Eleições Gerais E...|02/10/2022|             E|   SC|   SC|   SANTA CATARINA|       81370|               IÇARA|     79|       7|Deputado Estadual|240001644760|       11222|   FERNANDO CRUZETTA|   FERNANDO CRUZETTA|             #NULO#|                     12|                   APTO|                       2|                DEFERIDO|Partido isolado|        11|           PP|       PROGRESSISTAS|          -1|              #NULO#|       #NULO#|                 #NULO#|240001683130|PARTIDO ISOLADO|                     PP|                  N|               92|                  Válido|                       92|               5|        SUPLENTE|\n",
      "|05/02/2024|2024-02-07 18:58:51|       2022|              2|Eleição Ordinária|       1|       546|Eleições Gerais E...|02/10/2022|             E|   GO|   GO|            GOIÁS|       92991|  CARMO DO RIO VERDE|     76|       7|Deputado Estadual| 90001649523|       13125|ELIAS D ANGELO BO...|      ELIAS D ANGELO|             #NULO#|                     12|                   APTO|                       2|                DEFERIDO|      Federação|        13|           PT|Partido dos Traba...|           2|Federação Brasil ...|PT/PC do B/PV|      PC do B / PT / PV| 90001683282|      FEDERAÇÃO|      PT / PV / PC do B|                  N|               24|                  Válido|                       24|               5|        SUPLENTE|\n",
      "|05/02/2024|2024-02-07 18:58:51|       2022|              2|Eleição Ordinária|       1|       546|Eleições Gerais E...|02/10/2022|             E|   MG|   MG|     MINAS GERAIS|       45950|             IBIRITÉ|    351|       7|Deputado Estadual|130001669327|       35431|REINALDO ROMUALDO...|      CHUCK REINALDO|             #NULO#|                     12|                   APTO|                       2|                DEFERIDO|Partido isolado|        35|          PMB|Partido da Mulher...|          -1|              #NULO#|       #NULO#|                 #NULO#|130001683823|PARTIDO ISOLADO|                    PMB|                  N|                0|                  Válido|                        0|               4|      NÃO ELEITO|\n",
      "|05/02/2024|2024-02-07 18:58:51|       2022|              2|Eleição Ordinária|       1|       546|Eleições Gerais E...|02/10/2022|             E|   GO|   GO|            GOIÁS|       96415|          VIANÓPOLIS|     31|       6| Deputado Federal| 90001694951|        1455|JOSÉ FAGUNDES BAR...|    PR JOSÉ FAGUNDES|             #NULO#|                     12|                   APTO|                       2|                DEFERIDO|Partido isolado|        14|          PTB|Partido Trabalhis...|          -1|              #NULO#|       #NULO#|                 #NULO#| 90001684575|PARTIDO ISOLADO|                    PTB|                  N|                0|                  Válido|                        0|               4|      NÃO ELEITO|\n",
      "|05/02/2024|2024-02-07 18:58:51|       2022|              2|Eleição Ordinária|       1|       546|Eleições Gerais E...|02/10/2022|             E|   BA|   BA|            BAHIA|       34878|            COTEGIPE|     98|       6| Deputado Federal| 50001619919|        7771|WANGLES GLICERIO ...|    GUINHO DA CONTEM|             #NULO#|                     12|                   APTO|                       2|                DEFERIDO|Partido isolado|        77|SOLIDARIEDADE|       Solidariedade|          -1|              #NULO#|       #NULO#|                 #NULO#| 50001682200|PARTIDO ISOLADO|          SOLIDARIEDADE|                  N|                8|                  Válido|                        8|               4|      NÃO ELEITO|\n",
      "+----------+-------------------+-----------+---------------+-----------------+--------+----------+--------------------+----------+--------------+-----+-----+-----------------+------------+--------------------+-------+--------+-----------------+------------+------------+--------------------+--------------------+-------------------+-----------------------+-----------------------+------------------------+------------------------+---------------+----------+-------------+--------------------+------------+--------------------+-------------+-----------------------+------------+---------------+-----------------------+-------------------+-----------------+------------------------+-------------------------+----------------+----------------+\n",
      "only showing top 20 rows\n",
      "\n"
     ]
    }
   ],
   "source": [
    "# Lendo o CSV e Salvando em um DataFrame\n",
    "df = spark.read.csv(\"jobs/votacao_candidato_munzona_2022_BRASIL.csv\", sep=\";\", header=True, inferSchema=True, encoding=\"ISO-8859-1\")\n",
    "df.show(20)"
   ]
  },
  {
   "cell_type": "code",
   "execution_count": 4,
   "id": "13c837d9-dbd0-4cbe-a84a-67de2bb138b7",
   "metadata": {},
   "outputs": [
    {
     "name": "stdout",
     "output_type": "stream",
     "text": [
      "+--------+--------------------+--------------+-----+-----------------+--------------------+-------+-----------------+------------+--------------------+--------------------+-----------------------+----------+-------------+--------------------+---------------+-----------------------+-------------------+-----------------+------------------------+-------------------------+----------------+\n",
      "|NR_TURNO|          DS_ELEICAO|TP_ABRANGENCIA|SG_UF|            NM_UE|        NM_MUNICIPIO|NR_ZONA|         DS_CARGO|NR_CANDIDATO|        NM_CANDIDATO|   NM_URNA_CANDIDATO|DS_SITUACAO_CANDIDATURA|NR_PARTIDO|   SG_PARTIDO|          NM_PARTIDO|   NM_COLIGACAO|DS_COMPOSICAO_COLIGACAO|ST_VOTO_EM_TRANSITO|QT_VOTOS_NOMINAIS|NM_TIPO_DESTINACAO_VOTOS|QT_VOTOS_NOMINAIS_VALIDOS|DS_SIT_TOT_TURNO|\n",
      "+--------+--------------------+--------------+-----+-----------------+--------------------+-------+-----------------+------------+--------------------+--------------------+-----------------------+----------+-------------+--------------------+---------------+-----------------------+-------------------+-----------------+------------------------+-------------------------+----------------+\n",
      "|       1|Eleições Gerais E...|             E|   MG|     MINAS GERAIS| SÃO PEDRO DO SUAÇUÍ|    212|Deputado Estadual|       13192|GISELE CRISTINA M...|     GISELE DA SAÚDE|                   APTO|        13|           PT|Partido dos Traba...|      FEDERAÇÃO|      PT / PV / PC do B|                  N|                0|                  Válido|                        0|        SUPLENTE|\n",
      "|       1|Eleições Gerais E...|             E|   RS|RIO GRANDE DO SUL|    SÃO LUIZ GONZAGA|     52|Deputado Estadual|       19022|JULIO AGAPIO DA S...|        JULIO AGAPIO|                   APTO|        19|         PODE|             Podemos|PARTIDO ISOLADO|                   PODE|                  N|                1|                  Válido|                        1|        SUPLENTE|\n",
      "|       1|Eleições Gerais E...|             E|   SP|        SAO PAULO|             RIFAINA|    155|Deputado Estadual|       19100|RICARDO LONGATTI ...|      RICARDO FRANÇA|                   APTO|        19|         PODE|             Podemos|PARTIDO ISOLADO|                   PODE|                  N|                1|                  Válido|                        1|   ELEITO POR QP|\n",
      "|       1|Eleições Gerais E...|             E|   MA|         MARANHAO|               ICATU|     31|Deputado Estadual|       18190|EUDIMILSON JOSE F...|   SARGENTO EDMILSON|                   APTO|        18|         REDE|Rede Sustentabili...|      FEDERAÇÃO|            REDE / PSOL|                  N|                2|                  Válido|                        2|      NÃO ELEITO|\n",
      "|       1|Eleições Gerais E...|             E|   MG|     MINAS GERAIS|         FELIXLÂNDIA|    100|Deputado Estadual|       90800|FABIO DIAS QUEIRO...|               FABÃO|                   APTO|        90|         PROS|Partido Republica...|PARTIDO ISOLADO|                   PROS|                  N|                0|                  Válido|                        0|        SUPLENTE|\n",
      "|       1|Eleições Gerais E...|             E|   PB|          PARAIBA|   AREIA DE BARAÚNAS|     65| Deputado Federal|        7022|        VITAL FARIAS|        VITAL FARIAS|                   APTO|        70|       AVANTE|              AVANTE|PARTIDO ISOLADO|                 AVANTE|                  N|                0|                  Válido|                        0|      NÃO ELEITO|\n",
      "|       1|Eleições Gerais E...|             E|   BA|            BAHIA|    FEIRA DE SANTANA|    155| Deputado Federal|        1314|ANAILDES CAMPOS SENA|            ANAILDES|                   APTO|        13|           PT|Partido dos Traba...|      FEDERAÇÃO|      PT / PV / PC do B|                  N|               21|                  Válido|                       21|        SUPLENTE|\n",
      "|       1|Eleições Gerais E...|             E|   RS|RIO GRANDE DO SUL|       ENGENHO VELHO|    146|Deputado Estadual|       51983|DARCI ALESSANDRO ...|      SANDRO MARQUES|                   APTO|        51|     PATRIOTA|            Patriota|PARTIDO ISOLADO|               PATRIOTA|                  N|                0|                  Válido|                        0|      NÃO ELEITO|\n",
      "|       1|Eleições Gerais E...|             E|   SC|   SANTA CATARINA|          CAPÃO ALTO|    104|Deputado Estadual|       43333|        MÁRCIA HASSE|        MÁRCIA HASSE|                   APTO|        43|           PV|       Partido Verde|      FEDERAÇÃO|      PT / PV / PC do B|                  N|                0|                  Válido|                        0|        SUPLENTE|\n",
      "|       1|Eleições Gerais E...|             E|   SP|        SAO PAULO|            ITÁPOLIS|     55|Deputado Estadual|       28200|JULIO CESAR FRANC...|SARGENTO JULIO CESAR|                   APTO|        28|         PRTB|Partido Renovador...|PARTIDO ISOLADO|                   PRTB|                  N|                0|                  Válido|                        0|      NÃO ELEITO|\n",
      "|       1|Eleições Gerais E...|             E|   SP|        SAO PAULO|              COLINA|    178| Deputado Federal|        7727|LUIZ DE SOUZA ARRAES|         LUIZ ARRAES|                   APTO|        77|SOLIDARIEDADE|       Solidariedade|PARTIDO ISOLADO|          SOLIDARIEDADE|                  N|                0|                  Válido|                        0|        SUPLENTE|\n",
      "|       1|Eleições Gerais E...|             E|   SC|   SANTA CATARINA|            CRICIÚMA|     98| Deputado Federal|        1400| RUI GODINHO DA MOTA|         RUI GODINHO|                   APTO|        14|          PTB|Partido Trabalhis...|PARTIDO ISOLADO|                    PTB|                  N|                1|                  Válido|                        1|      NÃO ELEITO|\n",
      "|       1|Eleições Gerais E...|             E|   MG|     MINAS GERAIS|SANTA BÁRBARA DO ...|    240|Deputado Estadual|       50010|POLLYANA DO AMARA...|     POLLY DO AMARAL|                   APTO|        50|         PSOL|Partido Socialism...|      FEDERAÇÃO|            REDE / PSOL|                  N|                0|                  Válido|                        0|        SUPLENTE|\n",
      "|       1|Eleições Gerais E...|             E|   SP|        SAO PAULO|          PIRACICABA|     93| Deputado Federal|        3650|ALLAN SERGIO NASC...|      ALLAN CARTEIRO|                   APTO|        36|         AGIR|                AGIR|PARTIDO ISOLADO|                   AGIR|                  N|                0|                  Válido|                        0|      NÃO ELEITO|\n",
      "|       1|Eleições Gerais E...|             E|   SC|   SANTA CATARINA|            ARVOREDO|     61|Deputado Estadual|       11222|   FERNANDO CRUZETTA|   FERNANDO CRUZETTA|                   APTO|        11|           PP|       PROGRESSISTAS|PARTIDO ISOLADO|                     PP|                  N|                0|                  Válido|                        0|        SUPLENTE|\n",
      "|       1|Eleições Gerais E...|             E|   SC|   SANTA CATARINA|               IÇARA|     79|Deputado Estadual|       11222|   FERNANDO CRUZETTA|   FERNANDO CRUZETTA|                   APTO|        11|           PP|       PROGRESSISTAS|PARTIDO ISOLADO|                     PP|                  N|               92|                  Válido|                       92|        SUPLENTE|\n",
      "|       1|Eleições Gerais E...|             E|   GO|            GOIAS|  CARMO DO RIO VERDE|     76|Deputado Estadual|       13125|ELIAS D ANGELO BO...|      ELIAS D ANGELO|                   APTO|        13|           PT|Partido dos Traba...|      FEDERAÇÃO|      PT / PV / PC do B|                  N|               24|                  Válido|                       24|        SUPLENTE|\n",
      "|       1|Eleições Gerais E...|             E|   MG|     MINAS GERAIS|             IBIRITÉ|    351|Deputado Estadual|       35431|REINALDO ROMUALDO...|      CHUCK REINALDO|                   APTO|        35|          PMB|Partido da Mulher...|PARTIDO ISOLADO|                    PMB|                  N|                0|                  Válido|                        0|      NÃO ELEITO|\n",
      "|       1|Eleições Gerais E...|             E|   GO|            GOIAS|          VIANÓPOLIS|     31| Deputado Federal|        1455|JOSÉ FAGUNDES BAR...|    PR JOSÉ FAGUNDES|                   APTO|        14|          PTB|Partido Trabalhis...|PARTIDO ISOLADO|                    PTB|                  N|                0|                  Válido|                        0|      NÃO ELEITO|\n",
      "|       1|Eleições Gerais E...|             E|   BA|            BAHIA|            COTEGIPE|     98| Deputado Federal|        7771|WANGLES GLICERIO ...|    GUINHO DA CONTEM|                   APTO|        77|SOLIDARIEDADE|       Solidariedade|PARTIDO ISOLADO|          SOLIDARIEDADE|                  N|                8|                  Válido|                        8|      NÃO ELEITO|\n",
      "+--------+--------------------+--------------+-----+-----------------+--------------------+-------+-----------------+------------+--------------------+--------------------+-----------------------+----------+-------------+--------------------+---------------+-----------------------+-------------------+-----------------+------------------------+-------------------------+----------------+\n",
      "only showing top 20 rows\n",
      "\n"
     ]
    }
   ],
   "source": [
    "from pyspark.sql.functions import udf\n",
    "from pyspark.sql.types import StringType\n",
    "import unidecode\n",
    "\n",
    "# Definindo a função udf para remover acentos\n",
    "udf_remove_acentos = udf(lambda x: unidecode.unidecode(x) if x else None, StringType())\n",
    "\n",
    "# Selecionando as colunas necessárias para o OBT\n",
    "columns = [\"NR_TURNO\",\"DS_ELEICAO\",\"TP_ABRANGENCIA\",\"SG_UF\", \"NM_UE\",\"NM_MUNICIPIO\",\"NR_ZONA\",\"DS_CARGO\",\"NR_CANDIDATO\",\"NM_CANDIDATO\",\"NM_URNA_CANDIDATO\",\"DS_SITUACAO_CANDIDATURA\",\"NR_PARTIDO\",\"SG_PARTIDO\",\"NM_PARTIDO\",\"NM_COLIGACAO\",\"DS_COMPOSICAO_COLIGACAO\",\"ST_VOTO_EM_TRANSITO\",\"QT_VOTOS_NOMINAIS\",\"NM_TIPO_DESTINACAO_VOTOS\",\"QT_VOTOS_NOMINAIS_VALIDOS\",\"DS_SIT_TOT_TURNO\"]\n",
    "\n",
    "# Selecionando as colunas e aplicando a remoção de acentos à coluna \"NM_UE\"\n",
    "new_df = df.select(columns).withColumn(\"NM_UE\", udf_remove_acentos(\"NM_UE\"))\n",
    "\n",
    "new_df.show(20)"
   ]
  },
  {
   "cell_type": "code",
   "execution_count": 5,
   "id": "0a9ed7f8-2324-4c7a-b6f7-e63414ae79fd",
   "metadata": {},
   "outputs": [],
   "source": [
    "# Recebendo as variáveis do Banco\n",
    "hostname_or_ip = \"postgres\"\n",
    "port = \"5432\"\n",
    "db = \"obt\"\n",
    "user = \"metabase\"\n",
    "password = \"FlaDWaiNEdySeRiG\"\n",
    "schema = \"obt\"\n",
    "table = \"obt\""
   ]
  },
  {
   "cell_type": "code",
   "execution_count": 6,
   "id": "cbd5764c-5a6b-4e97-aa24-c14551c3f5d8",
   "metadata": {},
   "outputs": [],
   "source": [
    "# Ajustando as variáveis do formulário\n",
    "url = \"jdbc:postgresql://\" + hostname_or_ip + \":\" + port + \"/\" + db\n",
    "properties = {\n",
    "    \"user\": user,\n",
    "    \"password\": password,\n",
    "    \"driver\": \"org.postgresql.Driver\"\n",
    "}"
   ]
  },
  {
   "cell_type": "code",
   "execution_count": 7,
   "id": "3b3406c1-c060-486c-be3f-8253ebc7706d",
   "metadata": {},
   "outputs": [],
   "source": [
    "# Gravar dados no banco postgresql\n",
    "new_df.write.jdbc(url=url, table=table, mode=\"overwrite\", properties=properties)"
   ]
  }
 ],
 "metadata": {
  "kernelspec": {
   "display_name": "Python 3 (ipykernel)",
   "language": "python",
   "name": "python3"
  },
  "language_info": {
   "codemirror_mode": {
    "name": "ipython",
    "version": 3
   },
   "file_extension": ".py",
   "mimetype": "text/x-python",
   "name": "python",
   "nbconvert_exporter": "python",
   "pygments_lexer": "ipython3",
   "version": "3.11.6"
  }
 },
 "nbformat": 4,
 "nbformat_minor": 5
}
